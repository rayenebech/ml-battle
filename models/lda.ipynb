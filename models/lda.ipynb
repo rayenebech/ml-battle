{
 "cells": [
  {
   "attachments": {},
   "cell_type": "markdown",
   "metadata": {},
   "source": [
    "# Import Libraries"
   ]
  },
  {
   "cell_type": "code",
   "execution_count": 2,
   "metadata": {},
   "outputs": [],
   "source": [
    "# evaluate a lda model on the dataset\n",
    "from sklearn.discriminant_analysis import LinearDiscriminantAnalysis\n",
    "from sklearn.metrics import f1_score, accuracy_score, precision_score, recall_score\n",
    "from sklearn.model_selection import train_test_split\n",
    "from sklearn.feature_extraction.text import CountVectorizer\n",
    "import pandas as pd\n",
    "from datetime import datetime\n",
    "import statistics\n",
    "import nltk\n",
    "import re"
   ]
  },
  {
   "attachments": {},
   "cell_type": "markdown",
   "metadata": {},
   "source": [
    "# Hyper-Params"
   ]
  },
  {
   "cell_type": "code",
   "execution_count": 3,
   "metadata": {},
   "outputs": [],
   "source": [
    "TRAIN_VAL_SIZE = 0.2\n",
    "VAL_TEST_SIZE = 0.5"
   ]
  },
  {
   "attachments": {},
   "cell_type": "markdown",
   "metadata": {},
   "source": [
    "# Functions"
   ]
  },
  {
   "cell_type": "code",
   "execution_count": 16,
   "metadata": {},
   "outputs": [],
   "source": [
    "def get_metrics(true_labels, predictions):\n",
    "  f1 = f1_score(true_labels, predictions, average=\"macro\")\n",
    "  precision = precision_score(true_labels, predictions, average=\"macro\")\n",
    "  recall = recall_score(true_labels, predictions, average=\"macro\")\n",
    "  accuracy = accuracy_score(true_labels,predictions)\n",
    "  return f1, precision, recall, accuracy"
   ]
  },
  {
   "attachments": {},
   "cell_type": "markdown",
   "metadata": {},
   "source": [
    "# Dataset"
   ]
  },
  {
   "cell_type": "code",
   "execution_count": 4,
   "metadata": {},
   "outputs": [],
   "source": [
    "bbc_df = pd.read_csv(\"../datasets/bbc/bbc-text.csv\")\n",
    "bbc_df[\"category\"] = pd.Categorical(bbc_df['category']).codes\n",
    "\n",
    "stopwords = nltk.corpus.stopwords.words('english')"
   ]
  },
  {
   "cell_type": "code",
   "execution_count": 5,
   "metadata": {},
   "outputs": [],
   "source": [
    "def clean_text(text):\n",
    "    text=re.sub('<br \\/>','',text) \n",
    "    pattern=r'[^a-zA-z0-9\\s]'\n",
    "    text=re.sub(pattern,'',text) \n",
    "    text = re.sub('\\[[^]]*\\]', '', text)\n",
    "    return text"
   ]
  },
  {
   "cell_type": "code",
   "execution_count": 6,
   "metadata": {},
   "outputs": [
    {
     "data": {
      "text/html": [
       "<div>\n",
       "<style scoped>\n",
       "    .dataframe tbody tr th:only-of-type {\n",
       "        vertical-align: middle;\n",
       "    }\n",
       "\n",
       "    .dataframe tbody tr th {\n",
       "        vertical-align: top;\n",
       "    }\n",
       "\n",
       "    .dataframe thead th {\n",
       "        text-align: right;\n",
       "    }\n",
       "</style>\n",
       "<table border=\"1\" class=\"dataframe\">\n",
       "  <thead>\n",
       "    <tr style=\"text-align: right;\">\n",
       "      <th></th>\n",
       "      <th>text</th>\n",
       "      <th>sentiment</th>\n",
       "    </tr>\n",
       "  </thead>\n",
       "  <tbody>\n",
       "    <tr>\n",
       "      <th>0</th>\n",
       "      <td>A female vampire kills young women and paints ...</td>\n",
       "      <td>negative</td>\n",
       "    </tr>\n",
       "    <tr>\n",
       "      <th>1</th>\n",
       "      <td>Personally I think this show looks pretty chea...</td>\n",
       "      <td>negative</td>\n",
       "    </tr>\n",
       "    <tr>\n",
       "      <th>2</th>\n",
       "      <td>I grew up watching Inspector Gadget It was and...</td>\n",
       "      <td>negative</td>\n",
       "    </tr>\n",
       "    <tr>\n",
       "      <th>3</th>\n",
       "      <td>This movie is awful Im SORRY I bought this to ...</td>\n",
       "      <td>negative</td>\n",
       "    </tr>\n",
       "    <tr>\n",
       "      <th>4</th>\n",
       "      <td>This is a great example of a good dumb movie N...</td>\n",
       "      <td>positive</td>\n",
       "    </tr>\n",
       "    <tr>\n",
       "      <th>...</th>\n",
       "      <td>...</td>\n",
       "      <td>...</td>\n",
       "    </tr>\n",
       "    <tr>\n",
       "      <th>4995</th>\n",
       "      <td>After watching this on the MST3K episode I hav...</td>\n",
       "      <td>negative</td>\n",
       "    </tr>\n",
       "    <tr>\n",
       "      <th>4996</th>\n",
       "      <td>Upon completing this infernal piece of trash a...</td>\n",
       "      <td>negative</td>\n",
       "    </tr>\n",
       "    <tr>\n",
       "      <th>4997</th>\n",
       "      <td>Maybe Im biased because the F16 is my favorite...</td>\n",
       "      <td>positive</td>\n",
       "    </tr>\n",
       "    <tr>\n",
       "      <th>4998</th>\n",
       "      <td>The Best Movie of the 90s The Welsh Trainspott...</td>\n",
       "      <td>negative</td>\n",
       "    </tr>\n",
       "    <tr>\n",
       "      <th>4999</th>\n",
       "      <td>This was a excellent back when it came out It ...</td>\n",
       "      <td>positive</td>\n",
       "    </tr>\n",
       "  </tbody>\n",
       "</table>\n",
       "<p>5000 rows × 2 columns</p>\n",
       "</div>"
      ],
      "text/plain": [
       "                                                   text sentiment\n",
       "0     A female vampire kills young women and paints ...  negative\n",
       "1     Personally I think this show looks pretty chea...  negative\n",
       "2     I grew up watching Inspector Gadget It was and...  negative\n",
       "3     This movie is awful Im SORRY I bought this to ...  negative\n",
       "4     This is a great example of a good dumb movie N...  positive\n",
       "...                                                 ...       ...\n",
       "4995  After watching this on the MST3K episode I hav...  negative\n",
       "4996  Upon completing this infernal piece of trash a...  negative\n",
       "4997  Maybe Im biased because the F16 is my favorite...  positive\n",
       "4998  The Best Movie of the 90s The Welsh Trainspott...  negative\n",
       "4999  This was a excellent back when it came out It ...  positive\n",
       "\n",
       "[5000 rows x 2 columns]"
      ]
     },
     "execution_count": 6,
     "metadata": {},
     "output_type": "execute_result"
    }
   ],
   "source": [
    "movies_df = pd.read_csv(\"../datasets/movies/sampled.csv\")\n",
    "movies_df"
   ]
  },
  {
   "cell_type": "code",
   "execution_count": 13,
   "metadata": {},
   "outputs": [
    {
     "data": {
      "text/html": [
       "<div>\n",
       "<style scoped>\n",
       "    .dataframe tbody tr th:only-of-type {\n",
       "        vertical-align: middle;\n",
       "    }\n",
       "\n",
       "    .dataframe tbody tr th {\n",
       "        vertical-align: top;\n",
       "    }\n",
       "\n",
       "    .dataframe thead th {\n",
       "        text-align: right;\n",
       "    }\n",
       "</style>\n",
       "<table border=\"1\" class=\"dataframe\">\n",
       "  <thead>\n",
       "    <tr style=\"text-align: right;\">\n",
       "      <th></th>\n",
       "      <th>label</th>\n",
       "      <th>text</th>\n",
       "    </tr>\n",
       "  </thead>\n",
       "  <tbody>\n",
       "    <tr>\n",
       "      <th>0</th>\n",
       "      <td>4</td>\n",
       "      <td>why and she screaming ahaha this song is funny</td>\n",
       "    </tr>\n",
       "    <tr>\n",
       "      <th>1</th>\n",
       "      <td>0</td>\n",
       "      <td>the_trini_bajan work as usual</td>\n",
       "    </tr>\n",
       "    <tr>\n",
       "      <th>2</th>\n",
       "      <td>0</td>\n",
       "      <td>desi_f pack me in your luggage I wanna go</td>\n",
       "    </tr>\n",
       "    <tr>\n",
       "      <th>3</th>\n",
       "      <td>4</td>\n",
       "      <td>elm8 Thanks  I enjoy talking to you too</td>\n",
       "    </tr>\n",
       "    <tr>\n",
       "      <th>4</th>\n",
       "      <td>4</td>\n",
       "      <td>watchin the season finale of The Office lets h...</td>\n",
       "    </tr>\n",
       "    <tr>\n",
       "      <th>...</th>\n",
       "      <td>...</td>\n",
       "      <td>...</td>\n",
       "    </tr>\n",
       "    <tr>\n",
       "      <th>4795</th>\n",
       "      <td>0</td>\n",
       "      <td>So sleepy this morning</td>\n",
       "    </tr>\n",
       "    <tr>\n",
       "      <th>4796</th>\n",
       "      <td>0</td>\n",
       "      <td>bakespace do you archive your newsletters some...</td>\n",
       "    </tr>\n",
       "    <tr>\n",
       "      <th>4797</th>\n",
       "      <td>4</td>\n",
       "      <td>santyadh hope that will soon change though  bo...</td>\n",
       "    </tr>\n",
       "    <tr>\n",
       "      <th>4798</th>\n",
       "      <td>0</td>\n",
       "      <td>I think I should do my homework</td>\n",
       "    </tr>\n",
       "    <tr>\n",
       "      <th>4799</th>\n",
       "      <td>0</td>\n",
       "      <td>This is officially the only day since starting...</td>\n",
       "    </tr>\n",
       "  </tbody>\n",
       "</table>\n",
       "<p>4800 rows × 2 columns</p>\n",
       "</div>"
      ],
      "text/plain": [
       "      label                                               text\n",
       "0         4    why and she screaming ahaha this song is funny \n",
       "1         0                     the_trini_bajan work as usual \n",
       "2         0         desi_f pack me in your luggage I wanna go \n",
       "3         4            elm8 Thanks  I enjoy talking to you too\n",
       "4         4  watchin the season finale of The Office lets h...\n",
       "...     ...                                                ...\n",
       "4795      0                           So sleepy this morning  \n",
       "4796      0  bakespace do you archive your newsletters some...\n",
       "4797      4  santyadh hope that will soon change though  bo...\n",
       "4798      0                   I think I should do my homework \n",
       "4799      0  This is officially the only day since starting...\n",
       "\n",
       "[4800 rows x 2 columns]"
      ]
     },
     "execution_count": 13,
     "metadata": {},
     "output_type": "execute_result"
    }
   ],
   "source": [
    "twitter_df = pd.read_csv(\"../datasets/twitter_sampled.csv\")\n",
    "twitter_df"
   ]
  },
  {
   "attachments": {},
   "cell_type": "markdown",
   "metadata": {},
   "source": [
    "# Training the model on BBC News"
   ]
  },
  {
   "cell_type": "code",
   "execution_count": 14,
   "metadata": {},
   "outputs": [],
   "source": [
    "def train(train_X, train_Y, test_X, test_Y):\n",
    "    model = LinearDiscriminantAnalysis(solver='lsqr', shrinkage=0.5)\n",
    "    start_time = datetime.now()\n",
    "    vectorizer = CountVectorizer(stop_words = \"english\")\n",
    "    train_X = vectorizer.fit_transform(train_X[\"text\"]).toarray()\n",
    "    test_X = vectorizer.transform(test_X[\"text\"]).toarray()\n",
    "    model.fit(train_X, train_Y)\n",
    "    end_time = datetime.now()\n",
    "    training_time = (end_time - start_time).total_seconds()\n",
    "    end_time = datetime.now()\n",
    "    predicitons = model.predict(test_X)\n",
    "    test_f1, test_precision, test_recall, test_accuracy = get_metrics(predicitons, test_Y)\n",
    "    print('Testing: Accuracy: {:.3%}, Recall: {:.3%}, Precision: {:.3%}, f1: {:.3%}'.format(test_accuracy,test_recall, test_precision, test_f1))\n",
    "    print('Training time: {:.2f}s'.format(training_time))\n",
    "    return test_precision, test_recall, test_f1\n"
   ]
  },
  {
   "cell_type": "code",
   "execution_count": 6,
   "metadata": {},
   "outputs": [
    {
     "name": "stdout",
     "output_type": "stream",
     "text": [
      "Testing: Accuracy: 97.309%, Recall: 97.598%, Precision: 97.248%, f1: 97.350%\n",
      "Training time: 2937.12s\n",
      "Testing: Accuracy: 95.964%, Recall: 95.988%, Precision: 96.038%, f1: 95.972%\n",
      "Training time: 2645.75s\n"
     ]
    }
   ],
   "source": [
    "#shrinkage with lsqr\n",
    "\n",
    "f1s = []\n",
    "recalls = []\n",
    "precisions = []\n",
    "for i in range(2):\n",
    "    train_X, val_X, train_Y, val_Y = train_test_split(bbc_df, bbc_df[\"category\"], test_size = TRAIN_VAL_SIZE)\n",
    "    val_X, test_X, val_Y, test_Y = train_test_split(val_X, val_Y, test_size = VAL_TEST_SIZE)\n",
    "    test_precision, test_recall, test_f1 = train(train_X, train_Y, test_X, test_Y)\n",
    "    f1s.append(test_f1)\n",
    "    recalls.append(test_recall)\n",
    "    precisions.append(test_precision)\n"
   ]
  },
  {
   "cell_type": "code",
   "execution_count": 7,
   "metadata": {},
   "outputs": [
    {
     "name": "stdout",
     "output_type": "stream",
     "text": [
      "Precision values: [0.9724811715019793, 0.9603782505910166]\n",
      "Precision avg: 0.9664 (+/- 0.0171)\n",
      "Recall values: [0.9759805015361905, 0.9598814229249012]\n",
      "Recall avg: 0.9679 (+/- 0.0228)\n",
      "F1 values: [0.973501859831126, 0.9597191429767171]\n",
      "F1 avg: 0.9666 (+/- 0.0195)\n"
     ]
    }
   ],
   "source": [
    "print(\"Precision values:\", precisions)\n",
    "print(\"Precision avg: %0.4f (+/- %0.4f)\" % (statistics.mean(precisions), statistics.stdev(precisions) * 2))\n",
    "print(\"Recall values:\", recalls)\n",
    "print(\"Recall avg: %0.4f (+/- %0.4f)\" % (statistics.mean(recalls), statistics.stdev(recalls) * 2))\n",
    "print(\"F1 values:\", f1s)\n",
    "print(\"F1 avg: %0.4f (+/- %0.4f)\" % (statistics.mean(f1s), statistics.stdev(f1s) * 2))\n"
   ]
  },
  {
   "cell_type": "code",
   "execution_count": 202,
   "metadata": {},
   "outputs": [
    {
     "name": "stdout",
     "output_type": "stream",
     "text": [
      "Testing: Accuracy: 94.619%, Recall: 94.721%, Precision: 94.802%, f1: 94.681%\n",
      "Training time: 2197.96s\n"
     ]
    }
   ],
   "source": [
    "#shrinkage with lsqr\n",
    "\"\"\"\n",
    "In normal mode, LDA assumes that the class covariance matrices are equal and estimated using the sample covariance of the entire dataset. In shrinkage mode, LDA uses a shrinkage estimator to regularize the covariance matrix and improve the stability of the model.\"\"\"\n",
    "test_precision, test_recall, test_f1 = train(train_X, train_Y, test_X, test_Y)"
   ]
  },
  {
   "cell_type": "code",
   "execution_count": 192,
   "metadata": {},
   "outputs": [
    {
     "name": "stdout",
     "output_type": "stream",
     "text": [
      "Testing: Accuracy: 48.430%, Recall: 50.661%, Precision: 48.413%, f1: 49.117%\n",
      "Training time: 22.66s\n"
     ]
    }
   ],
   "source": [
    "# stopwords n_components = 4\n",
    "test_precision, test_recall, test_f1 = train(train_X, train_Y, test_X, test_Y)"
   ]
  },
  {
   "attachments": {},
   "cell_type": "markdown",
   "metadata": {},
   "source": [
    "# Train with movies data"
   ]
  },
  {
   "cell_type": "code",
   "execution_count": 9,
   "metadata": {},
   "outputs": [],
   "source": [
    "def train(train_X, train_Y, test_X, test_Y):\n",
    "    model = LinearDiscriminantAnalysis()\n",
    "    start_time = datetime.now()\n",
    "    vectorizer = CountVectorizer(stop_words = \"english\")\n",
    "    train_X = vectorizer.fit_transform(train_X[\"text\"]).toarray()\n",
    "    test_X = vectorizer.transform(test_X[\"text\"]).toarray()\n",
    "    model.fit(train_X, train_Y)\n",
    "    end_time = datetime.now()\n",
    "    training_time = (end_time - start_time).total_seconds()\n",
    "    end_time = datetime.now()\n",
    "    predicitons = model.predict(test_X)\n",
    "    test_f1, test_precision, test_recall, test_accuracy = get_metrics(predicitons, test_Y)\n",
    "    print('Testing: Accuracy: {:.3%}, Recall: {:.3%}, Precision: {:.3%}, f1: {:.3%}'.format(test_accuracy,test_recall, test_precision, test_f1))\n",
    "    print('Training time: {:.2f}s'.format(training_time))\n",
    "    return test_precision, test_recall, test_f1"
   ]
  },
  {
   "cell_type": "code",
   "execution_count": 10,
   "metadata": {},
   "outputs": [
    {
     "name": "stdout",
     "output_type": "stream",
     "text": [
      "Testing: Accuracy: 70.200%, Recall: 70.168%, Precision: 70.183%, f1: 70.173%\n",
      "Training time: 878.13s\n",
      "Testing: Accuracy: 71.400%, Recall: 71.360%, Precision: 71.389%, f1: 71.367%\n",
      "Training time: 818.03s\n",
      "Testing: Accuracy: 58.000%, Recall: 57.928%, Precision: 57.917%, f1: 57.919%\n",
      "Training time: 877.37s\n",
      "Testing: Accuracy: 62.800%, Recall: 62.859%, Precision: 62.785%, f1: 62.740%\n",
      "Training time: 894.63s\n",
      "Testing: Accuracy: 71.000%, Recall: 70.978%, Precision: 70.960%, f1: 70.966%\n",
      "Training time: 650.78s\n"
     ]
    }
   ],
   "source": [
    "#with n_components = 4\n",
    "f1s = []\n",
    "recalls = []\n",
    "precisions = []\n",
    "for i in range(5):\n",
    "    train_X, val_X, train_Y, val_Y = train_test_split(movies_df, movies_df[\"sentiment\"], test_size = TRAIN_VAL_SIZE)\n",
    "    val_X, test_X, val_Y, test_Y = train_test_split(val_X, val_Y, test_size = VAL_TEST_SIZE)\n",
    "    test_precision, test_recall, test_f1 = train(train_X, train_Y, test_X, test_Y)\n",
    "    f1s.append(test_f1)\n",
    "    recalls.append(test_recall)\n",
    "    precisions.append(test_precision)\n"
   ]
  },
  {
   "cell_type": "code",
   "execution_count": 11,
   "metadata": {},
   "outputs": [
    {
     "name": "stdout",
     "output_type": "stream",
     "text": [
      "Precision values: [0.7018295711241769, 0.7138860834575739, 0.5791665999134878, 0.6278500456007297, 0.7096043297945589]\n",
      "Precision avg: 0.6665 (+/- 0.1203)\n",
      "Recall values: [0.7016841700819672, 0.7135950307377049, 0.5792783687089891, 0.6285907401149037, 0.7097756410256411]\n",
      "Recall avg: 0.6666 (+/- 0.1199)\n",
      "F1 values: [0.7017315584025622, 0.7136690013655786, 0.5791853027461165, 0.627403846153846, 0.7096643720140483]\n",
      "F1 avg: 0.6663 (+/- 0.1203)\n"
     ]
    }
   ],
   "source": [
    "print(\"Precision values:\", precisions)\n",
    "print(\"Precision avg: %0.4f (+/- %0.4f)\" % (statistics.mean(precisions), statistics.stdev(precisions) * 2))\n",
    "print(\"Recall values:\", recalls)\n",
    "print(\"Recall avg: %0.4f (+/- %0.4f)\" % (statistics.mean(recalls), statistics.stdev(recalls) * 2))\n",
    "print(\"F1 values:\", f1s)\n",
    "print(\"F1 avg: %0.4f (+/- %0.4f)\" % (statistics.mean(f1s), statistics.stdev(f1s) * 2))\n"
   ]
  },
  {
   "cell_type": "code",
   "execution_count": null,
   "metadata": {},
   "outputs": [],
   "source": []
  },
  {
   "attachments": {},
   "cell_type": "markdown",
   "metadata": {},
   "source": [
    "# Train the model on Twitter"
   ]
  },
  {
   "cell_type": "code",
   "execution_count": 15,
   "metadata": {},
   "outputs": [],
   "source": [
    "def train(train_X, train_Y, test_X, test_Y):\n",
    "    model = LinearDiscriminantAnalysis()\n",
    "    start_time = datetime.now()\n",
    "    vectorizer = CountVectorizer(stop_words = \"english\")\n",
    "    train_X = vectorizer.fit_transform(train_X[\"text\"]).toarray()\n",
    "    test_X = vectorizer.transform(test_X[\"text\"]).toarray()\n",
    "    model.fit(train_X, train_Y)\n",
    "    end_time = datetime.now()\n",
    "    training_time = (end_time - start_time).total_seconds()\n",
    "    end_time = datetime.now()\n",
    "    predicitons = model.predict(test_X)\n",
    "    test_f1, test_precision, test_recall, test_accuracy = get_metrics(predicitons, test_Y)\n",
    "    print('Testing: Accuracy: {:.3%}, Recall: {:.3%}, Precision: {:.3%}, f1: {:.3%}'.format(test_accuracy,test_recall, test_precision, test_f1))\n",
    "    print('Training time: {:.2f}s'.format(training_time))\n",
    "    return test_precision, test_recall, test_f1"
   ]
  },
  {
   "cell_type": "code",
   "execution_count": 17,
   "metadata": {},
   "outputs": [
    {
     "name": "stdout",
     "output_type": "stream",
     "text": [
      "Testing: Accuracy: 50.000%, Recall: 50.000%, Precision: 50.000%, f1: 49.685%\n",
      "Training time: 122.15s\n",
      "Testing: Accuracy: 55.208%, Recall: 55.449%, Precision: 55.037%, f1: 54.263%\n",
      "Training time: 136.60s\n",
      "Testing: Accuracy: 56.458%, Recall: 57.219%, Precision: 56.848%, f1: 56.037%\n",
      "Training time: 108.91s\n",
      "Testing: Accuracy: 58.542%, Recall: 59.000%, Precision: 58.728%, f1: 58.294%\n",
      "Training time: 125.71s\n",
      "Testing: Accuracy: 53.542%, Recall: 53.273%, Precision: 53.174%, f1: 52.968%\n",
      "Training time: 103.78s\n"
     ]
    }
   ],
   "source": [
    "f1s = []\n",
    "recalls = []\n",
    "precisions = []\n",
    "for i in range(5):\n",
    "    train_X, val_X, train_Y, val_Y = train_test_split(twitter_df, twitter_df[\"label\"], test_size = TRAIN_VAL_SIZE)\n",
    "    val_X, test_X, val_Y, test_Y = train_test_split(val_X, val_Y, test_size = VAL_TEST_SIZE)\n",
    "    test_precision, test_recall, test_f1 = train(train_X, train_Y, test_X, test_Y)\n",
    "    f1s.append(test_f1)\n",
    "    recalls.append(test_recall)\n",
    "    precisions.append(test_precision)\n"
   ]
  },
  {
   "cell_type": "code",
   "execution_count": 18,
   "metadata": {},
   "outputs": [
    {
     "name": "stdout",
     "output_type": "stream",
     "text": [
      "Precision values: [0.5, 0.5503724540292754, 0.5684788654060067, 0.5872774641771602, 0.5317391304347826]\n",
      "Precision avg: 0.5476 (+/- 0.0673)\n",
      "Recall values: [0.5, 0.5544850123957629, 0.5721942281264316, 0.5899957016978293, 0.5327348388369715]\n",
      "Recall avg: 0.5499 (+/- 0.0701)\n",
      "F1 values: [0.49684655567008507, 0.5426322577214046, 0.5603682879692888, 0.5829385541695229, 0.5296826324415289]\n",
      "F1 avg: 0.5425 (+/- 0.0648)\n"
     ]
    }
   ],
   "source": [
    "print(\"Precision values:\", precisions)\n",
    "print(\"Precision avg: %0.4f (+/- %0.4f)\" % (statistics.mean(precisions), statistics.stdev(precisions) * 2))\n",
    "print(\"Recall values:\", recalls)\n",
    "print(\"Recall avg: %0.4f (+/- %0.4f)\" % (statistics.mean(recalls), statistics.stdev(recalls) * 2))\n",
    "print(\"F1 values:\", f1s)\n",
    "print(\"F1 avg: %0.4f (+/- %0.4f)\" % (statistics.mean(f1s), statistics.stdev(f1s) * 2))\n"
   ]
  },
  {
   "cell_type": "code",
   "execution_count": null,
   "metadata": {},
   "outputs": [],
   "source": []
  }
 ],
 "metadata": {
  "kernelspec": {
   "display_name": "my-venv",
   "language": "python",
   "name": "python3"
  },
  "language_info": {
   "codemirror_mode": {
    "name": "ipython",
    "version": 3
   },
   "file_extension": ".py",
   "mimetype": "text/x-python",
   "name": "python",
   "nbconvert_exporter": "python",
   "pygments_lexer": "ipython3",
   "version": "3.8.9 (default, Apr 13 2022, 08:48:06) \n[Clang 13.1.6 (clang-1316.0.21.2.5)]"
  },
  "orig_nbformat": 4,
  "vscode": {
   "interpreter": {
    "hash": "3dd4a2e0defd57de5fbee3712486c1f066f8e1e168ee0000614ffba8faf61667"
   }
  }
 },
 "nbformat": 4,
 "nbformat_minor": 2
}
