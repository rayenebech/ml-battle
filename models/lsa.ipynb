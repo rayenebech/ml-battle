{
 "cells": [
  {
   "cell_type": "code",
   "execution_count": 1,
   "metadata": {},
   "outputs": [],
   "source": [
    "from sklearn.feature_extraction.text import TfidfVectorizer\n",
    "from sklearn.decomposition import TruncatedSVD\n",
    "from sklearn.linear_model import LogisticRegression\n",
    "from sklearn.metrics import f1_score, accuracy_score, precision_score, recall_score\n",
    "from sklearn.pipeline import Pipeline\n",
    "from sklearn.model_selection import train_test_split\n",
    "import pandas as pd\n",
    "from datetime import datetime\n",
    "import statistics\n",
    "import re"
   ]
  },
  {
   "attachments": {},
   "cell_type": "markdown",
   "metadata": {},
   "source": [
    "# Hyper-params"
   ]
  },
  {
   "cell_type": "code",
   "execution_count": 2,
   "metadata": {},
   "outputs": [],
   "source": [
    "TRAIN_VAL_SIZE = 0.2\n",
    "VAL_TEST_SIZE = 0.5"
   ]
  },
  {
   "attachments": {},
   "cell_type": "markdown",
   "metadata": {},
   "source": [
    "# Helper Functions"
   ]
  },
  {
   "cell_type": "code",
   "execution_count": 4,
   "metadata": {},
   "outputs": [],
   "source": [
    "def get_metrics(true_labels, predictions):\n",
    "  f1 = f1_score(true_labels, predictions, average=\"macro\")\n",
    "  precision = precision_score(true_labels, predictions, average=\"macro\")\n",
    "  recall = recall_score(true_labels, predictions, average=\"macro\")\n",
    "  accuracy = accuracy_score(true_labels,predictions)\n",
    "  return f1, precision, recall, accuracy"
   ]
  },
  {
   "attachments": {},
   "cell_type": "markdown",
   "metadata": {},
   "source": [
    "# Prepare datasets"
   ]
  },
  {
   "cell_type": "code",
   "execution_count": 5,
   "metadata": {},
   "outputs": [],
   "source": [
    "bbc_df = pd.read_csv(\"../datasets/bbc/bbc-text.csv\")"
   ]
  },
  {
   "cell_type": "code",
   "execution_count": 5,
   "metadata": {},
   "outputs": [],
   "source": [
    "def clean_text(text):\n",
    "    text=re.sub('<br \\/>','',text) \n",
    "    pattern=r'[^a-zA-z0-9\\s]'\n",
    "    text=re.sub(pattern,'',text) \n",
    "    text = re.sub('\\[[^]]*\\]', '', text)\n",
    "    return text"
   ]
  },
  {
   "cell_type": "code",
   "execution_count": 11,
   "metadata": {},
   "outputs": [],
   "source": [
    "movies_df = pd.read_csv(\"../datasets/movies/sampled.csv\")"
   ]
  },
  {
   "cell_type": "code",
   "execution_count": 16,
   "metadata": {},
   "outputs": [
    {
     "data": {
      "text/html": [
       "<div>\n",
       "<style scoped>\n",
       "    .dataframe tbody tr th:only-of-type {\n",
       "        vertical-align: middle;\n",
       "    }\n",
       "\n",
       "    .dataframe tbody tr th {\n",
       "        vertical-align: top;\n",
       "    }\n",
       "\n",
       "    .dataframe thead th {\n",
       "        text-align: right;\n",
       "    }\n",
       "</style>\n",
       "<table border=\"1\" class=\"dataframe\">\n",
       "  <thead>\n",
       "    <tr style=\"text-align: right;\">\n",
       "      <th></th>\n",
       "      <th>label</th>\n",
       "      <th>text</th>\n",
       "    </tr>\n",
       "  </thead>\n",
       "  <tbody>\n",
       "    <tr>\n",
       "      <th>0</th>\n",
       "      <td>4</td>\n",
       "      <td>why and she screaming ahaha this song is funny</td>\n",
       "    </tr>\n",
       "    <tr>\n",
       "      <th>1</th>\n",
       "      <td>0</td>\n",
       "      <td>the_trini_bajan work as usual</td>\n",
       "    </tr>\n",
       "    <tr>\n",
       "      <th>2</th>\n",
       "      <td>0</td>\n",
       "      <td>desi_f pack me in your luggage I wanna go</td>\n",
       "    </tr>\n",
       "    <tr>\n",
       "      <th>3</th>\n",
       "      <td>4</td>\n",
       "      <td>elm8 Thanks  I enjoy talking to you too</td>\n",
       "    </tr>\n",
       "    <tr>\n",
       "      <th>4</th>\n",
       "      <td>4</td>\n",
       "      <td>watchin the season finale of The Office lets h...</td>\n",
       "    </tr>\n",
       "    <tr>\n",
       "      <th>...</th>\n",
       "      <td>...</td>\n",
       "      <td>...</td>\n",
       "    </tr>\n",
       "    <tr>\n",
       "      <th>4795</th>\n",
       "      <td>0</td>\n",
       "      <td>So sleepy this morning</td>\n",
       "    </tr>\n",
       "    <tr>\n",
       "      <th>4796</th>\n",
       "      <td>0</td>\n",
       "      <td>bakespace do you archive your newsletters some...</td>\n",
       "    </tr>\n",
       "    <tr>\n",
       "      <th>4797</th>\n",
       "      <td>4</td>\n",
       "      <td>santyadh hope that will soon change though  bo...</td>\n",
       "    </tr>\n",
       "    <tr>\n",
       "      <th>4798</th>\n",
       "      <td>0</td>\n",
       "      <td>I think I should do my homework</td>\n",
       "    </tr>\n",
       "    <tr>\n",
       "      <th>4799</th>\n",
       "      <td>0</td>\n",
       "      <td>This is officially the only day since starting...</td>\n",
       "    </tr>\n",
       "  </tbody>\n",
       "</table>\n",
       "<p>4800 rows × 2 columns</p>\n",
       "</div>"
      ],
      "text/plain": [
       "      label                                               text\n",
       "0         4    why and she screaming ahaha this song is funny \n",
       "1         0                     the_trini_bajan work as usual \n",
       "2         0         desi_f pack me in your luggage I wanna go \n",
       "3         4            elm8 Thanks  I enjoy talking to you too\n",
       "4         4  watchin the season finale of The Office lets h...\n",
       "...     ...                                                ...\n",
       "4795      0                           So sleepy this morning  \n",
       "4796      0  bakespace do you archive your newsletters some...\n",
       "4797      4  santyadh hope that will soon change though  bo...\n",
       "4798      0                   I think I should do my homework \n",
       "4799      0  This is officially the only day since starting...\n",
       "\n",
       "[4800 rows x 2 columns]"
      ]
     },
     "execution_count": 16,
     "metadata": {},
     "output_type": "execute_result"
    }
   ],
   "source": [
    "twitter_df  = pd.read_csv(\"../datasets/twitter_sampled.csv\")\n",
    "twitter_df"
   ]
  },
  {
   "attachments": {},
   "cell_type": "markdown",
   "metadata": {},
   "source": [
    "# Train with BBC dataset"
   ]
  },
  {
   "cell_type": "code",
   "execution_count": 9,
   "metadata": {},
   "outputs": [],
   "source": [
    "def train(train_X, train_Y, test_X, test_Y): \n",
    "    tf_idf = TfidfVectorizer(use_idf=True, norm='l2')\n",
    "    svd = TruncatedSVD(n_components=20)\n",
    "    lr_model = LogisticRegression()\n",
    "\n",
    "    model_tfidf = Pipeline([(\"tfidf\", tf_idf), (\"svd\", svd), (\"classifier\", lr_model)])\n",
    "    start_time = datetime.now()\n",
    "    model_tfidf.fit(train_X[\"text\"], train_Y)\n",
    "    end_time = datetime.now()\n",
    "    training_time_tfidf = (end_time - start_time).total_seconds()\n",
    "\n",
    "    # Eval    \n",
    "    predicted_test_tfidf = model_tfidf.predict(test_X[\"text\"])\n",
    "    test_f1, test_precision, test_recall, test_accuracy = get_metrics(predicted_test_tfidf, test_Y)\n",
    "    print('Testing: Accuracy: {:.3%}, Recall: {:.3%}, Precision: {:.3%}, f1: {:.3%}'.format(test_accuracy,test_recall, test_precision, test_f1))\n",
    "    print('Training time: {:.2f}s'.format(training_time_tfidf))\n",
    "    return test_precision, test_recall, test_f1"
   ]
  },
  {
   "cell_type": "code",
   "execution_count": 10,
   "metadata": {},
   "outputs": [
    {
     "name": "stdout",
     "output_type": "stream",
     "text": [
      "Testing: Accuracy: 94.619%, Recall: 94.816%, Precision: 94.193%, f1: 94.436%\n",
      "Training time: 0.48s\n",
      "Testing: Accuracy: 94.170%, Recall: 93.838%, Precision: 94.492%, f1: 93.967%\n",
      "Training time: 0.54s\n",
      "Testing: Accuracy: 94.619%, Recall: 95.057%, Precision: 93.828%, f1: 94.266%\n",
      "Training time: 0.68s\n",
      "Testing: Accuracy: 93.722%, Recall: 94.032%, Precision: 93.139%, f1: 93.375%\n",
      "Training time: 0.64s\n",
      "Testing: Accuracy: 93.722%, Recall: 94.356%, Precision: 93.241%, f1: 93.565%\n",
      "Training time: 0.84s\n"
     ]
    }
   ],
   "source": [
    "precisions = []\n",
    "recalls = []\n",
    "f1s = []\n",
    "for i in range(5):\n",
    "    train_X, val_X, train_Y, val_Y = train_test_split(bbc_df, bbc_df[\"category\"], test_size = TRAIN_VAL_SIZE)\n",
    "    val_X, test_X, val_Y, test_Y = train_test_split(val_X, val_Y, test_size = VAL_TEST_SIZE)\n",
    "    precision, recall, f1 = train(train_X, train_Y, test_X, test_Y)\n",
    "    precisions.append(precision)\n",
    "    recalls.append(recall)\n",
    "    f1s.append(f1)"
   ]
  },
  {
   "cell_type": "code",
   "execution_count": 11,
   "metadata": {},
   "outputs": [
    {
     "name": "stdout",
     "output_type": "stream",
     "text": [
      "Testing: Accuracy: 93.722%, Recall: 93.523%, Precision: 93.490%, f1: 93.468%\n",
      "Training time: 0.60s\n",
      "Testing: Accuracy: 91.480%, Recall: 91.370%, Precision: 91.158%, f1: 91.201%\n",
      "Training time: 0.61s\n",
      "Testing: Accuracy: 94.619%, Recall: 95.072%, Precision: 94.287%, f1: 94.449%\n",
      "Training time: 0.61s\n",
      "Testing: Accuracy: 94.619%, Recall: 93.568%, Precision: 93.648%, f1: 93.580%\n",
      "Training time: 0.61s\n",
      "Testing: Accuracy: 95.067%, Recall: 94.926%, Precision: 94.961%, f1: 94.907%\n",
      "Training time: 0.55s\n"
     ]
    }
   ],
   "source": [
    "precisions = []\n",
    "recalls = []\n",
    "f1s = []\n",
    "for i in range(5):\n",
    "    train_X, val_X, train_Y, val_Y = train_test_split(bbc_df, bbc_df[\"category\"], test_size = TRAIN_VAL_SIZE)\n",
    "    val_X, test_X, val_Y, test_Y = train_test_split(val_X, val_Y, test_size = VAL_TEST_SIZE)\n",
    "    precision, recall, f1 = train(train_X, train_Y, test_X, test_Y)\n",
    "    precisions.append(precision)\n",
    "    recalls.append(recall)\n",
    "    f1s.append(f1)"
   ]
  },
  {
   "cell_type": "code",
   "execution_count": 8,
   "metadata": {},
   "outputs": [
    {
     "name": "stdout",
     "output_type": "stream",
     "text": [
      "Precision values: [0.9022239561167069, 0.9299206577398067, 0.9503376623376625, 0.9392664157431774, 0.9410347690179943]\n",
      "Precision avg: 0.9326 (+/- 0.0369)\n",
      "Recall values: [0.9091627738553116, 0.9399535373016569, 0.9515602982102255, 0.9411410323546361, 0.9536453823953824]\n",
      "Recall avg: 0.9391 (+/- 0.0356)\n",
      "F1 values: [0.9044188461124602, 0.9340752642126209, 0.9504470837804171, 0.9401607885459471, 0.9459413039684405]\n",
      "F1 avg: 0.9350 (+/- 0.0363)\n"
     ]
    }
   ],
   "source": [
    "print(\"Precision values:\", precisions)\n",
    "print(\"Precision avg: %0.4f (+/- %0.4f)\" % (statistics.mean(precisions), statistics.stdev(precisions) * 2))\n",
    "print(\"Recall values:\", recalls)\n",
    "print(\"Recall avg: %0.4f (+/- %0.4f)\" % (statistics.mean(recalls), statistics.stdev(recalls) * 2))\n",
    "print(\"F1 values:\", f1s)\n",
    "print(\"F1 avg: %0.4f (+/- %0.4f)\" % (statistics.mean(f1s), statistics.stdev(f1s) * 2))\n"
   ]
  },
  {
   "attachments": {},
   "cell_type": "markdown",
   "metadata": {},
   "source": [
    "# Train with movies dataset"
   ]
  },
  {
   "cell_type": "code",
   "execution_count": 12,
   "metadata": {},
   "outputs": [
    {
     "name": "stdout",
     "output_type": "stream",
     "text": [
      "Testing: Accuracy: 79.000%, Recall: 79.100%, Precision: 79.127%, f1: 78.999%\n",
      "Training time: 5.84s\n",
      "Testing: Accuracy: 76.400%, Recall: 76.466%, Precision: 76.454%, f1: 76.400%\n",
      "Training time: 5.87s\n",
      "Testing: Accuracy: 79.600%, Recall: 79.588%, Precision: 79.588%, f1: 79.588%\n",
      "Training time: 6.45s\n",
      "Testing: Accuracy: 77.800%, Recall: 77.835%, Precision: 77.807%, f1: 77.796%\n",
      "Training time: 6.68s\n",
      "Testing: Accuracy: 78.600%, Recall: 78.746%, Precision: 78.667%, f1: 78.593%\n",
      "Training time: 6.19s\n"
     ]
    }
   ],
   "source": [
    "precisions = []\n",
    "recalls = []\n",
    "f1s = []\n",
    "for i in range(5):\n",
    "    train_X, val_X, train_Y, val_Y = train_test_split(movies_df, movies_df[\"sentiment\"], test_size = TRAIN_VAL_SIZE)\n",
    "    val_X, test_X, val_Y, test_Y = train_test_split(val_X, val_Y, test_size = VAL_TEST_SIZE)\n",
    "    precision, recall, f1 = train(train_X, train_Y, test_X, test_Y)\n",
    "    precisions.append(precision)\n",
    "    recalls.append(recall)\n",
    "    f1s.append(f1)"
   ]
  },
  {
   "cell_type": "code",
   "execution_count": 13,
   "metadata": {},
   "outputs": [
    {
     "name": "stdout",
     "output_type": "stream",
     "text": [
      "Precision values: [0.7912678946440308, 0.7645363729508197, 0.7958824282786885, 0.7780684490951855, 0.7866746698679472]\n",
      "Precision avg: 0.7833 (+/- 0.0248)\n",
      "Recall values: [0.7910019860336985, 0.7646550067268884, 0.7958824282786885, 0.778349029406112, 0.7874614791987673]\n",
      "Recall avg: 0.7835 (+/- 0.0246)\n",
      "F1 values: [0.7899924397278302, 0.763996223939583, 0.7958824282786885, 0.7779564794699761, 0.785930641527855]\n",
      "F1 avg: 0.7828 (+/- 0.0247)\n"
     ]
    }
   ],
   "source": [
    "print(\"Precision values:\", precisions)\n",
    "print(\"Precision avg: %0.4f (+/- %0.4f)\" % (statistics.mean(precisions), statistics.stdev(precisions) * 2))\n",
    "print(\"Recall values:\", recalls)\n",
    "print(\"Recall avg: %0.4f (+/- %0.4f)\" % (statistics.mean(recalls), statistics.stdev(recalls) * 2))\n",
    "print(\"F1 values:\", f1s)\n",
    "print(\"F1 avg: %0.4f (+/- %0.4f)\" % (statistics.mean(f1s), statistics.stdev(f1s) * 2))\n"
   ]
  },
  {
   "cell_type": "code",
   "execution_count": null,
   "metadata": {},
   "outputs": [],
   "source": []
  },
  {
   "attachments": {},
   "cell_type": "markdown",
   "metadata": {},
   "source": [
    "# Train on Twitter Data"
   ]
  },
  {
   "cell_type": "code",
   "execution_count": 21,
   "metadata": {},
   "outputs": [
    {
     "name": "stdout",
     "output_type": "stream",
     "text": [
      "Testing: Accuracy: 58.750%, Recall: 58.682%, Precision: 58.662%, f1: 58.663%\n",
      "Training time: 3.49s\n",
      "Testing: Accuracy: 60.833%, Recall: 60.962%, Precision: 60.912%, f1: 60.809%\n",
      "Training time: 3.55s\n",
      "Testing: Accuracy: 61.458%, Recall: 61.630%, Precision: 61.565%, f1: 61.430%\n",
      "Training time: 3.79s\n",
      "Testing: Accuracy: 65.000%, Recall: 65.305%, Precision: 65.271%, f1: 64.998%\n",
      "Training time: 3.01s\n",
      "Testing: Accuracy: 58.333%, Recall: 58.333%, Precision: 58.313%, f1: 58.298%\n",
      "Training time: 3.09s\n"
     ]
    }
   ],
   "source": [
    "precisions = []\n",
    "recalls = []\n",
    "f1s = []\n",
    "for i in range(5):\n",
    "    train_X, val_X, train_Y, val_Y = train_test_split(twitter_df, twitter_df[\"label\"], test_size = TRAIN_VAL_SIZE)\n",
    "    val_X, test_X, val_Y, test_Y = train_test_split(val_X, val_Y, test_size = VAL_TEST_SIZE)\n",
    "    precision, recall, f1 = train(train_X, train_Y, test_X, test_Y)\n",
    "    precisions.append(precision)\n",
    "    recalls.append(recall)\n",
    "    f1s.append(f1)"
   ]
  },
  {
   "cell_type": "code",
   "execution_count": 22,
   "metadata": {},
   "outputs": [
    {
     "name": "stdout",
     "output_type": "stream",
     "text": [
      "Precision values: [0.5866240266963292, 0.6091185410334347, 0.6156451949134876, 0.6527071284231064, 0.5831307729703452]\n",
      "Precision avg: 0.6094 (+/- 0.0559)\n",
      "Recall values: [0.5868232178942234, 0.6096211896494566, 0.6163018221841752, 0.6530483972344437, 0.5833333333333334]\n",
      "Recall avg: 0.6098 (+/- 0.0560)\n",
      "F1 values: [0.5866316393813392, 0.6080883885761934, 0.6143004200129435, 0.6499756927564414, 0.5829785755243176]\n",
      "F1 avg: 0.6084 (+/- 0.0537)\n"
     ]
    }
   ],
   "source": [
    "print(\"Precision values:\", precisions)\n",
    "print(\"Precision avg: %0.4f (+/- %0.4f)\" % (statistics.mean(precisions), statistics.stdev(precisions) * 2))\n",
    "print(\"Recall values:\", recalls)\n",
    "print(\"Recall avg: %0.4f (+/- %0.4f)\" % (statistics.mean(recalls), statistics.stdev(recalls) * 2))\n",
    "print(\"F1 values:\", f1s)\n",
    "print(\"F1 avg: %0.4f (+/- %0.4f)\" % (statistics.mean(f1s), statistics.stdev(f1s) * 2))\n"
   ]
  },
  {
   "cell_type": "code",
   "execution_count": null,
   "metadata": {},
   "outputs": [],
   "source": []
  }
 ],
 "metadata": {
  "kernelspec": {
   "display_name": "my-venv",
   "language": "python",
   "name": "python3"
  },
  "language_info": {
   "codemirror_mode": {
    "name": "ipython",
    "version": 3
   },
   "file_extension": ".py",
   "mimetype": "text/x-python",
   "name": "python",
   "nbconvert_exporter": "python",
   "pygments_lexer": "ipython3",
   "version": "3.8.9"
  },
  "orig_nbformat": 4,
  "vscode": {
   "interpreter": {
    "hash": "3dd4a2e0defd57de5fbee3712486c1f066f8e1e168ee0000614ffba8faf61667"
   }
  }
 },
 "nbformat": 4,
 "nbformat_minor": 2
}
